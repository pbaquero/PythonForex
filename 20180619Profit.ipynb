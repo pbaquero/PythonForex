{
 "cells": [
  {
   "cell_type": "code",
   "execution_count": 1,
   "metadata": {},
   "outputs": [],
   "source": [
    "%matplotlib inline\n",
    "import numpy as np\n",
    "import pandas as pd\n",
    "import matplotlib.pyplot as plt\n",
    "from mpl_toolkits import mplot3d\n",
    "import matplotlib.dates as dates\n",
    "import datetime\n",
    "import timeit\n",
    "import csv"
   ]
  },
  {
   "cell_type": "code",
   "execution_count": 41,
   "metadata": {},
   "outputs": [
    {
     "name": "stdout",
     "output_type": "stream",
     "text": [
      "Wall time: 46 s\n"
     ]
    }
   ],
   "source": [
    "%%time\n",
    "tick_data = pd.read_csv('C:\\\\Users\\\\pebaqu\\\\Downloads\\\\USDJPY-2018-01.csv', parse_dates=True )\n",
    "#tick_data = tick_data.head(100)\n",
    "#df_profit['New_PTime']=df_profit['PTime'].apply(lambda x: datetime.datetime.strptime(x, \"%Y%m%d %H:%M:%S.%f\"))\n",
    "tick_data['TTime']=tick_data['TTime'].apply(lambda x: datetime.datetime.strptime(x, \"%Y%m%d %H:%M:%S.%f\"))\n",
    "#tick_data"
   ]
  },
  {
   "cell_type": "code",
   "execution_count": 18,
   "metadata": {},
   "outputs": [
    {
     "name": "stdout",
     "output_type": "stream",
     "text": [
      "['Pair,TTime,Bid,Ask\\n', 'USD/JPY,20180101 22:01:30.499,112.57,112.8\\n', 'USD/JPY,20180101 22:01:32.143,112.6,112.8\\n', 'USD/JPY,20180101 22:01:50.876,112.614,112.722\\n', 'USD/JPY,20180101 22:02:02.819,112.6,112.8\\n', 'USD/JPY,20180101 22:02:04.139,112.614,112.723\\n', 'USD/JPY,20180101 22:02:22.881,112.6,112.8\\n', 'USD/JPY,20180101 22:03:47.489,112.613,112.714\\n', 'USD/JPY,20180101 22:03:48.641,112.61,112.696\\n', 'USD/JPY,20180101 22:04:02.814,112.605,112.695\\n']\n",
      "Wall time: 1.15 s\n"
     ]
    }
   ],
   "source": [
    "%%time\n",
    "datafile = open('C:\\\\Users\\\\pebaqu\\\\Downloads\\\\USDJPY-2018-01.csv', \"r\")\n",
    "datareader = csv.reader(datafile, delimiter=',')\n",
    "data = list(datafile)\n",
    "print(data[:10])"
   ]
  },
  {
   "cell_type": "code",
   "execution_count": null,
   "metadata": {},
   "outputs": [],
   "source": []
  }
 ],
 "metadata": {
  "kernelspec": {
   "display_name": "Python 3",
   "language": "python",
   "name": "python3"
  },
  "language_info": {
   "codemirror_mode": {
    "name": "ipython",
    "version": 3
   },
   "file_extension": ".py",
   "mimetype": "text/x-python",
   "name": "python",
   "nbconvert_exporter": "python",
   "pygments_lexer": "ipython3",
   "version": "3.6.5"
  }
 },
 "nbformat": 4,
 "nbformat_minor": 2
}
