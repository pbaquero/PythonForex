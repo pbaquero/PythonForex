{
 "cells": [
  {
   "cell_type": "code",
   "execution_count": 1,
   "metadata": {},
   "outputs": [],
   "source": [
    "%matplotlib inline\n",
    "import numpy as np\n",
    "import pandas as pd\n",
    "import matplotlib.pyplot as plt\n",
    "from mpl_toolkits import mplot3d\n",
    "import matplotlib.dates as dates\n",
    "import datetime\n",
    "import timeit\n",
    "import csv"
   ]
  },
  {
   "cell_type": "code",
   "execution_count": 30,
   "metadata": {},
   "outputs": [
    {
     "name": "stdout",
     "output_type": "stream",
     "text": [
      "Wall time: 48 s\n"
     ]
    }
   ],
   "source": [
    "%%time\n",
    "tick_data = pd.read_csv('C:\\\\Users\\\\pebaqu\\\\Downloads\\\\USDJPY-2018-01.csv', parse_dates=True )\n",
    "#tick_data = tick_data.head(100)\n",
    "#df_profit['New_PTime']=df_profit['PTime'].apply(lambda x: datetime.datetime.strptime(x, \"%Y%m%d %H:%M:%S.%f\"))\n",
    "tick_data['TTime']=tick_data['TTime'].apply(lambda x: np.datetime64(datetime.datetime.strptime(x, '%Y%m%d %H:%M:%S.%f'),unit = 'ms'))\n",
    "tick_data['NewTTime']=pd.to_datetime(tick_data['TTime'], unit='ms')\n",
    "#tick_data"
   ]
  },
  {
   "cell_type": "code",
   "execution_count": 31,
   "metadata": {},
   "outputs": [
    {
     "data": {
      "text/plain": [
       "Pair                object\n",
       "TTime       datetime64[ns]\n",
       "Bid                float64\n",
       "Ask                float64\n",
       "NewTTime    datetime64[ns]\n",
       "dtype: object"
      ]
     },
     "execution_count": 31,
     "metadata": {},
     "output_type": "execute_result"
    }
   ],
   "source": [
    "tick_data.dtypes"
   ]
  },
  {
   "cell_type": "code",
   "execution_count": 74,
   "metadata": {},
   "outputs": [
    {
     "name": "stdout",
     "output_type": "stream",
     "text": [
      "datetime64[ns]\n",
      "float64\n",
      "[('TTime', '<M8[ms]'), ('Bid', '<f8')]\n",
      "[]\n"
     ]
    }
   ],
   "source": [
    "time_data=tick_data[['TTime']].values\n",
    "print(time_data.dtype)\n",
    "bid_data=tick_data[['Bid']].values\n",
    "print(bid_data.dtype)\n",
    "dt=np.dtype('datetime64','f8')\n",
    "test_data=np.empty([0,2], dtype=[('TTime','datetime64[ms]'),('Bid','f8')])\n",
    "print(test_data.dtype)\n",
    "print(test_data)\n",
    "test_3=tick_data[['TTime']].values"
   ]
  },
  {
   "cell_type": "code",
   "execution_count": 76,
   "metadata": {},
   "outputs": [
    {
     "name": "stdout",
     "output_type": "stream",
     "text": [
      "(3185507, 2)\n",
      "object\n",
      "[[Timestamp('2018-01-01 22:01:30.499000') 112.57]\n",
      " [Timestamp('2018-01-01 22:01:32.143000') 112.6]\n",
      " [Timestamp('2018-01-01 22:01:50.876000') 112.61399999999999]\n",
      " ...\n",
      " [Timestamp('2018-01-31 23:59:58.998000') 109.193]\n",
      " [Timestamp('2018-01-31 23:59:59.052000') 109.195]\n",
      " [Timestamp('2018-01-31 23:59:59.945000') 109.195]]\n"
     ]
    },
    {
     "ename": "TypeError",
     "evalue": "Cannot change data-type for object array.",
     "output_type": "error",
     "traceback": [
      "\u001b[1;31m---------------------------------------------------------------------------\u001b[0m",
      "\u001b[1;31mTypeError\u001b[0m                                 Traceback (most recent call last)",
      "\u001b[1;32m<ipython-input-76-a86d9c5ded58>\u001b[0m in \u001b[0;36m<module>\u001b[1;34m()\u001b[0m\n\u001b[0;32m      3\u001b[0m \u001b[0mprint\u001b[0m\u001b[1;33m(\u001b[0m\u001b[0mtest_3\u001b[0m\u001b[1;33m.\u001b[0m\u001b[0mdtype\u001b[0m\u001b[1;33m)\u001b[0m\u001b[1;33m\u001b[0m\u001b[0m\n\u001b[0;32m      4\u001b[0m \u001b[0mprint\u001b[0m\u001b[1;33m(\u001b[0m\u001b[0mtest_3\u001b[0m\u001b[1;33m)\u001b[0m\u001b[1;33m\u001b[0m\u001b[0m\n\u001b[1;32m----> 5\u001b[1;33m \u001b[0mtest_3\u001b[0m\u001b[1;33m.\u001b[0m\u001b[0mdtype\u001b[0m\u001b[1;33m=\u001b[0m\u001b[1;33m(\u001b[0m\u001b[1;33m[\u001b[0m\u001b[1;33m(\u001b[0m\u001b[1;34m'TTime'\u001b[0m\u001b[1;33m,\u001b[0m\u001b[1;34m'datetime64[ms]'\u001b[0m\u001b[1;33m)\u001b[0m\u001b[1;33m,\u001b[0m\u001b[1;33m(\u001b[0m\u001b[1;34m'Bid'\u001b[0m\u001b[1;33m,\u001b[0m\u001b[1;34m'f8'\u001b[0m\u001b[1;33m)\u001b[0m\u001b[1;33m]\u001b[0m\u001b[1;33m)\u001b[0m\u001b[1;33m\u001b[0m\u001b[0m\n\u001b[0m\u001b[0;32m      6\u001b[0m \u001b[0mprint\u001b[0m\u001b[1;33m(\u001b[0m\u001b[0mtest_3\u001b[0m\u001b[1;33m.\u001b[0m\u001b[0mdtype\u001b[0m\u001b[1;33m)\u001b[0m\u001b[1;33m\u001b[0m\u001b[0m\n\u001b[0;32m      7\u001b[0m \u001b[0mprint\u001b[0m\u001b[1;33m(\u001b[0m\u001b[0mtest_3\u001b[0m\u001b[1;33m)\u001b[0m\u001b[1;33m\u001b[0m\u001b[0m\n",
      "\u001b[1;32m~\\AppData\\Local\\Continuum\\anaconda3\\lib\\site-packages\\numpy\\core\\_internal.py\u001b[0m in \u001b[0;36m_view_is_safe\u001b[1;34m(oldtype, newtype)\u001b[0m\n\u001b[0;32m    387\u001b[0m \u001b[1;33m\u001b[0m\u001b[0m\n\u001b[0;32m    388\u001b[0m     \u001b[1;32mif\u001b[0m \u001b[0mnewtype\u001b[0m\u001b[1;33m.\u001b[0m\u001b[0mhasobject\u001b[0m \u001b[1;32mor\u001b[0m \u001b[0moldtype\u001b[0m\u001b[1;33m.\u001b[0m\u001b[0mhasobject\u001b[0m\u001b[1;33m:\u001b[0m\u001b[1;33m\u001b[0m\u001b[0m\n\u001b[1;32m--> 389\u001b[1;33m         \u001b[1;32mraise\u001b[0m \u001b[0mTypeError\u001b[0m\u001b[1;33m(\u001b[0m\u001b[1;34m\"Cannot change data-type for object array.\"\u001b[0m\u001b[1;33m)\u001b[0m\u001b[1;33m\u001b[0m\u001b[0m\n\u001b[0m\u001b[0;32m    390\u001b[0m     \u001b[1;32mreturn\u001b[0m\u001b[1;33m\u001b[0m\u001b[0m\n\u001b[0;32m    391\u001b[0m \u001b[1;33m\u001b[0m\u001b[0m\n",
      "\u001b[1;31mTypeError\u001b[0m: Cannot change data-type for object array."
     ]
    }
   ],
   "source": [
    "'''this maybe creates the array we want'''\n",
    "test_3=tick_data[['TTime','Bid']].values\n",
    "print(test_3.shape)\n",
    "print(test_3.dtype)\n",
    "print(test_3)\n",
    "test_3.dtype=([('TTime','datetime64[ms]'),('Bid','f8')])\n",
    "print(test_3.dtype)\n",
    "print(test_3)"
   ]
  },
  {
   "cell_type": "code",
   "execution_count": 89,
   "metadata": {},
   "outputs": [],
   "source": [
    "test_5=[(lambda x: [np.datetime64(datetime.datetime.strptime(x.decode(\"utf-8\"), '%Y%m%d %H:%M:%S.%f'), unit='ms')]) for x in test_3[:,0]]"
   ]
  },
  {
   "cell_type": "code",
   "execution_count": 98,
   "metadata": {},
   "outputs": [
    {
     "name": "stdout",
     "output_type": "stream",
     "text": [
      "3185507\n"
     ]
    },
    {
     "ename": "TypeError",
     "evalue": "an integer is required (got type Timestamp)",
     "output_type": "error",
     "traceback": [
      "\u001b[1;31m---------------------------------------------------------------------------\u001b[0m",
      "\u001b[1;31mTypeError\u001b[0m                                 Traceback (most recent call last)",
      "\u001b[1;32m<ipython-input-98-014efb5685e6>\u001b[0m in \u001b[0;36m<module>\u001b[1;34m()\u001b[0m\n\u001b[0;32m      4\u001b[0m \u001b[1;33m\u001b[0m\u001b[0m\n\u001b[0;32m      5\u001b[0m \u001b[1;32mfor\u001b[0m \u001b[0mx\u001b[0m \u001b[1;32min\u001b[0m \u001b[0mrange\u001b[0m\u001b[1;33m(\u001b[0m\u001b[1;36m0\u001b[0m\u001b[1;33m,\u001b[0m\u001b[0marr_size\u001b[0m\u001b[1;33m)\u001b[0m\u001b[1;33m:\u001b[0m\u001b[1;33m\u001b[0m\u001b[0m\n\u001b[1;32m----> 6\u001b[1;33m     \u001b[0mnp\u001b[0m\u001b[1;33m.\u001b[0m\u001b[0mdatetime64\u001b[0m\u001b[1;33m(\u001b[0m\u001b[0mdatetime\u001b[0m\u001b[1;33m.\u001b[0m\u001b[0mdatetime\u001b[0m\u001b[1;33m.\u001b[0m\u001b[0mfromtimestamp\u001b[0m\u001b[1;33m(\u001b[0m\u001b[0mtest_3\u001b[0m\u001b[1;33m[\u001b[0m\u001b[0mx\u001b[0m\u001b[1;33m,\u001b[0m\u001b[1;36m0\u001b[0m\u001b[1;33m]\u001b[0m\u001b[1;33m)\u001b[0m\u001b[1;33m,\u001b[0m \u001b[0munit\u001b[0m\u001b[1;33m=\u001b[0m\u001b[1;34m'ms'\u001b[0m\u001b[1;33m)\u001b[0m\u001b[1;33m\u001b[0m\u001b[0m\n\u001b[0m\u001b[0;32m      7\u001b[0m     \u001b[0mprint\u001b[0m\u001b[1;33m(\u001b[0m\u001b[0mtest_3\u001b[0m\u001b[1;33m[\u001b[0m\u001b[0mx\u001b[0m\u001b[1;33m,\u001b[0m\u001b[1;36m0\u001b[0m\u001b[1;33m]\u001b[0m\u001b[1;33m)\u001b[0m\u001b[1;33m\u001b[0m\u001b[0m\n",
      "\u001b[1;31mTypeError\u001b[0m: an integer is required (got type Timestamp)"
     ]
    }
   ],
   "source": [
    "print(len(test_3))\n",
    "\n",
    "arr_size=len(test_3)\n",
    "\n",
    "for x in range(0,arr_size):\n",
    "    np.datetime64(datetime.datetime.fromtimestamp(test_3[x,0]), unit='ms')\n",
    "    print(test_3[x,0])\n"
   ]
  },
  {
   "cell_type": "code",
   "execution_count": 53,
   "metadata": {},
   "outputs": [
    {
     "ename": "ValueError",
     "evalue": "could not convert string to float: 'USD/JPY'",
     "output_type": "error",
     "traceback": [
      "\u001b[1;31m---------------------------------------------------------------------------\u001b[0m",
      "\u001b[1;31mValueError\u001b[0m                                Traceback (most recent call last)",
      "\u001b[1;32m<timed exec>\u001b[0m in \u001b[0;36m<module>\u001b[1;34m()\u001b[0m\n",
      "\u001b[1;32m~\\AppData\\Local\\Continuum\\anaconda3\\lib\\site-packages\\numpy\\lib\\npyio.py\u001b[0m in \u001b[0;36mloadtxt\u001b[1;34m(fname, dtype, comments, delimiter, converters, skiprows, usecols, unpack, ndmin, encoding)\u001b[0m\n\u001b[0;32m   1090\u001b[0m         \u001b[1;31m# converting the data\u001b[0m\u001b[1;33m\u001b[0m\u001b[1;33m\u001b[0m\u001b[0m\n\u001b[0;32m   1091\u001b[0m         \u001b[0mX\u001b[0m \u001b[1;33m=\u001b[0m \u001b[1;32mNone\u001b[0m\u001b[1;33m\u001b[0m\u001b[0m\n\u001b[1;32m-> 1092\u001b[1;33m         \u001b[1;32mfor\u001b[0m \u001b[0mx\u001b[0m \u001b[1;32min\u001b[0m \u001b[0mread_data\u001b[0m\u001b[1;33m(\u001b[0m\u001b[0m_loadtxt_chunksize\u001b[0m\u001b[1;33m)\u001b[0m\u001b[1;33m:\u001b[0m\u001b[1;33m\u001b[0m\u001b[0m\n\u001b[0m\u001b[0;32m   1093\u001b[0m             \u001b[1;32mif\u001b[0m \u001b[0mX\u001b[0m \u001b[1;32mis\u001b[0m \u001b[1;32mNone\u001b[0m\u001b[1;33m:\u001b[0m\u001b[1;33m\u001b[0m\u001b[0m\n\u001b[0;32m   1094\u001b[0m                 \u001b[0mX\u001b[0m \u001b[1;33m=\u001b[0m \u001b[0mnp\u001b[0m\u001b[1;33m.\u001b[0m\u001b[0marray\u001b[0m\u001b[1;33m(\u001b[0m\u001b[0mx\u001b[0m\u001b[1;33m,\u001b[0m \u001b[0mdtype\u001b[0m\u001b[1;33m)\u001b[0m\u001b[1;33m\u001b[0m\u001b[0m\n",
      "\u001b[1;32m~\\AppData\\Local\\Continuum\\anaconda3\\lib\\site-packages\\numpy\\lib\\npyio.py\u001b[0m in \u001b[0;36mread_data\u001b[1;34m(chunk_size)\u001b[0m\n\u001b[0;32m   1017\u001b[0m \u001b[1;33m\u001b[0m\u001b[0m\n\u001b[0;32m   1018\u001b[0m             \u001b[1;31m# Convert each value according to its column and store\u001b[0m\u001b[1;33m\u001b[0m\u001b[1;33m\u001b[0m\u001b[0m\n\u001b[1;32m-> 1019\u001b[1;33m             \u001b[0mitems\u001b[0m \u001b[1;33m=\u001b[0m \u001b[1;33m[\u001b[0m\u001b[0mconv\u001b[0m\u001b[1;33m(\u001b[0m\u001b[0mval\u001b[0m\u001b[1;33m)\u001b[0m \u001b[1;32mfor\u001b[0m \u001b[1;33m(\u001b[0m\u001b[0mconv\u001b[0m\u001b[1;33m,\u001b[0m \u001b[0mval\u001b[0m\u001b[1;33m)\u001b[0m \u001b[1;32min\u001b[0m \u001b[0mzip\u001b[0m\u001b[1;33m(\u001b[0m\u001b[0mconverters\u001b[0m\u001b[1;33m,\u001b[0m \u001b[0mvals\u001b[0m\u001b[1;33m)\u001b[0m\u001b[1;33m]\u001b[0m\u001b[1;33m\u001b[0m\u001b[0m\n\u001b[0m\u001b[0;32m   1020\u001b[0m \u001b[1;33m\u001b[0m\u001b[0m\n\u001b[0;32m   1021\u001b[0m             \u001b[1;31m# Then pack it according to the dtype's nesting\u001b[0m\u001b[1;33m\u001b[0m\u001b[1;33m\u001b[0m\u001b[0m\n",
      "\u001b[1;32m~\\AppData\\Local\\Continuum\\anaconda3\\lib\\site-packages\\numpy\\lib\\npyio.py\u001b[0m in \u001b[0;36m<listcomp>\u001b[1;34m(.0)\u001b[0m\n\u001b[0;32m   1017\u001b[0m \u001b[1;33m\u001b[0m\u001b[0m\n\u001b[0;32m   1018\u001b[0m             \u001b[1;31m# Convert each value according to its column and store\u001b[0m\u001b[1;33m\u001b[0m\u001b[1;33m\u001b[0m\u001b[0m\n\u001b[1;32m-> 1019\u001b[1;33m             \u001b[0mitems\u001b[0m \u001b[1;33m=\u001b[0m \u001b[1;33m[\u001b[0m\u001b[0mconv\u001b[0m\u001b[1;33m(\u001b[0m\u001b[0mval\u001b[0m\u001b[1;33m)\u001b[0m \u001b[1;32mfor\u001b[0m \u001b[1;33m(\u001b[0m\u001b[0mconv\u001b[0m\u001b[1;33m,\u001b[0m \u001b[0mval\u001b[0m\u001b[1;33m)\u001b[0m \u001b[1;32min\u001b[0m \u001b[0mzip\u001b[0m\u001b[1;33m(\u001b[0m\u001b[0mconverters\u001b[0m\u001b[1;33m,\u001b[0m \u001b[0mvals\u001b[0m\u001b[1;33m)\u001b[0m\u001b[1;33m]\u001b[0m\u001b[1;33m\u001b[0m\u001b[0m\n\u001b[0m\u001b[0;32m   1020\u001b[0m \u001b[1;33m\u001b[0m\u001b[0m\n\u001b[0;32m   1021\u001b[0m             \u001b[1;31m# Then pack it according to the dtype's nesting\u001b[0m\u001b[1;33m\u001b[0m\u001b[1;33m\u001b[0m\u001b[0m\n",
      "\u001b[1;32m~\\AppData\\Local\\Continuum\\anaconda3\\lib\\site-packages\\numpy\\lib\\npyio.py\u001b[0m in \u001b[0;36m<lambda>\u001b[1;34m(x)\u001b[0m\n\u001b[0;32m    746\u001b[0m         \u001b[1;32mreturn\u001b[0m \u001b[0mnp\u001b[0m\u001b[1;33m.\u001b[0m\u001b[0mint64\u001b[0m\u001b[1;33m\u001b[0m\u001b[0m\n\u001b[0;32m    747\u001b[0m     \u001b[1;32mif\u001b[0m \u001b[0missubclass\u001b[0m\u001b[1;33m(\u001b[0m\u001b[0mtyp\u001b[0m\u001b[1;33m,\u001b[0m \u001b[0mnp\u001b[0m\u001b[1;33m.\u001b[0m\u001b[0minteger\u001b[0m\u001b[1;33m)\u001b[0m\u001b[1;33m:\u001b[0m\u001b[1;33m\u001b[0m\u001b[0m\n\u001b[1;32m--> 748\u001b[1;33m         \u001b[1;32mreturn\u001b[0m \u001b[1;32mlambda\u001b[0m \u001b[0mx\u001b[0m\u001b[1;33m:\u001b[0m \u001b[0mint\u001b[0m\u001b[1;33m(\u001b[0m\u001b[0mfloat\u001b[0m\u001b[1;33m(\u001b[0m\u001b[0mx\u001b[0m\u001b[1;33m)\u001b[0m\u001b[1;33m)\u001b[0m\u001b[1;33m\u001b[0m\u001b[0m\n\u001b[0m\u001b[0;32m    749\u001b[0m     \u001b[1;32melif\u001b[0m \u001b[0missubclass\u001b[0m\u001b[1;33m(\u001b[0m\u001b[0mtyp\u001b[0m\u001b[1;33m,\u001b[0m \u001b[0mnp\u001b[0m\u001b[1;33m.\u001b[0m\u001b[0mlongdouble\u001b[0m\u001b[1;33m)\u001b[0m\u001b[1;33m:\u001b[0m\u001b[1;33m\u001b[0m\u001b[0m\n\u001b[0;32m    750\u001b[0m         \u001b[1;32mreturn\u001b[0m \u001b[0mnp\u001b[0m\u001b[1;33m.\u001b[0m\u001b[0mlongdouble\u001b[0m\u001b[1;33m\u001b[0m\u001b[0m\n",
      "\u001b[1;31mValueError\u001b[0m: could not convert string to float: 'USD/JPY'"
     ]
    }
   ],
   "source": [
    "%%time\n",
    "str2date = lambda x: np.datetime64(datetime.datetime.strptime(x.decode(\"utf-8\"), '%Y%m%d %H:%M:%S.%f'), unit='ms')\n",
    "\n",
    "#test_arr = np.empty([arr_size,2])\n",
    "\n",
    "test_arr_1 = np.loadtxt(open(\"C:\\\\Users\\\\pebaqu\\\\Downloads\\\\USDJPY-2018-01_UTF8.csv\", \"rb\"), dtype = {'names':('Pair','TTime','Bid','Ask'),'formats':('b','M8[ms]', 'f8','f8')}, skiprows=1, delimiter=\",\", converters = {1: str2date})"
   ]
  },
  {
   "cell_type": "code",
   "execution_count": 52,
   "metadata": {},
   "outputs": [
    {
     "ename": "ValueError",
     "evalue": "could not convert string to float: '20180101 22:01:30.499'",
     "output_type": "error",
     "traceback": [
      "\u001b[1;31m---------------------------------------------------------------------------\u001b[0m",
      "\u001b[1;31mValueError\u001b[0m                                Traceback (most recent call last)",
      "\u001b[1;32m<ipython-input-52-7c57a4b26e48>\u001b[0m in \u001b[0;36m<module>\u001b[1;34m()\u001b[0m\n\u001b[1;32m----> 1\u001b[1;33m \u001b[0mtest_arr_1\u001b[0m \u001b[1;33m=\u001b[0m \u001b[0mnp\u001b[0m\u001b[1;33m.\u001b[0m\u001b[0mloadtxt\u001b[0m\u001b[1;33m(\u001b[0m\u001b[0mopen\u001b[0m\u001b[1;33m(\u001b[0m\u001b[1;34m\"C:\\\\Users\\\\pebaqu\\\\Downloads\\\\USDJPY-2018-01_UTF8.csv\"\u001b[0m\u001b[1;33m,\u001b[0m \u001b[1;34m\"rb\"\u001b[0m\u001b[1;33m)\u001b[0m\u001b[1;33m,\u001b[0m\u001b[0musecols\u001b[0m\u001b[1;33m=\u001b[0m\u001b[1;33m(\u001b[0m\u001b[1;36m1\u001b[0m\u001b[1;33m,\u001b[0m\u001b[1;36m2\u001b[0m\u001b[1;33m)\u001b[0m\u001b[1;33m,\u001b[0m \u001b[0mskiprows\u001b[0m\u001b[1;33m=\u001b[0m\u001b[1;36m1\u001b[0m\u001b[1;33m,\u001b[0m \u001b[0mdelimiter\u001b[0m\u001b[1;33m=\u001b[0m\u001b[1;34m\",\"\u001b[0m\u001b[1;33m)\u001b[0m\u001b[1;33m\u001b[0m\u001b[0m\n\u001b[0m",
      "\u001b[1;32m~\\AppData\\Local\\Continuum\\anaconda3\\lib\\site-packages\\numpy\\lib\\npyio.py\u001b[0m in \u001b[0;36mloadtxt\u001b[1;34m(fname, dtype, comments, delimiter, converters, skiprows, usecols, unpack, ndmin, encoding)\u001b[0m\n\u001b[0;32m   1090\u001b[0m         \u001b[1;31m# converting the data\u001b[0m\u001b[1;33m\u001b[0m\u001b[1;33m\u001b[0m\u001b[0m\n\u001b[0;32m   1091\u001b[0m         \u001b[0mX\u001b[0m \u001b[1;33m=\u001b[0m \u001b[1;32mNone\u001b[0m\u001b[1;33m\u001b[0m\u001b[0m\n\u001b[1;32m-> 1092\u001b[1;33m         \u001b[1;32mfor\u001b[0m \u001b[0mx\u001b[0m \u001b[1;32min\u001b[0m \u001b[0mread_data\u001b[0m\u001b[1;33m(\u001b[0m\u001b[0m_loadtxt_chunksize\u001b[0m\u001b[1;33m)\u001b[0m\u001b[1;33m:\u001b[0m\u001b[1;33m\u001b[0m\u001b[0m\n\u001b[0m\u001b[0;32m   1093\u001b[0m             \u001b[1;32mif\u001b[0m \u001b[0mX\u001b[0m \u001b[1;32mis\u001b[0m \u001b[1;32mNone\u001b[0m\u001b[1;33m:\u001b[0m\u001b[1;33m\u001b[0m\u001b[0m\n\u001b[0;32m   1094\u001b[0m                 \u001b[0mX\u001b[0m \u001b[1;33m=\u001b[0m \u001b[0mnp\u001b[0m\u001b[1;33m.\u001b[0m\u001b[0marray\u001b[0m\u001b[1;33m(\u001b[0m\u001b[0mx\u001b[0m\u001b[1;33m,\u001b[0m \u001b[0mdtype\u001b[0m\u001b[1;33m)\u001b[0m\u001b[1;33m\u001b[0m\u001b[0m\n",
      "\u001b[1;32m~\\AppData\\Local\\Continuum\\anaconda3\\lib\\site-packages\\numpy\\lib\\npyio.py\u001b[0m in \u001b[0;36mread_data\u001b[1;34m(chunk_size)\u001b[0m\n\u001b[0;32m   1017\u001b[0m \u001b[1;33m\u001b[0m\u001b[0m\n\u001b[0;32m   1018\u001b[0m             \u001b[1;31m# Convert each value according to its column and store\u001b[0m\u001b[1;33m\u001b[0m\u001b[1;33m\u001b[0m\u001b[0m\n\u001b[1;32m-> 1019\u001b[1;33m             \u001b[0mitems\u001b[0m \u001b[1;33m=\u001b[0m \u001b[1;33m[\u001b[0m\u001b[0mconv\u001b[0m\u001b[1;33m(\u001b[0m\u001b[0mval\u001b[0m\u001b[1;33m)\u001b[0m \u001b[1;32mfor\u001b[0m \u001b[1;33m(\u001b[0m\u001b[0mconv\u001b[0m\u001b[1;33m,\u001b[0m \u001b[0mval\u001b[0m\u001b[1;33m)\u001b[0m \u001b[1;32min\u001b[0m \u001b[0mzip\u001b[0m\u001b[1;33m(\u001b[0m\u001b[0mconverters\u001b[0m\u001b[1;33m,\u001b[0m \u001b[0mvals\u001b[0m\u001b[1;33m)\u001b[0m\u001b[1;33m]\u001b[0m\u001b[1;33m\u001b[0m\u001b[0m\n\u001b[0m\u001b[0;32m   1020\u001b[0m \u001b[1;33m\u001b[0m\u001b[0m\n\u001b[0;32m   1021\u001b[0m             \u001b[1;31m# Then pack it according to the dtype's nesting\u001b[0m\u001b[1;33m\u001b[0m\u001b[1;33m\u001b[0m\u001b[0m\n",
      "\u001b[1;32m~\\AppData\\Local\\Continuum\\anaconda3\\lib\\site-packages\\numpy\\lib\\npyio.py\u001b[0m in \u001b[0;36m<listcomp>\u001b[1;34m(.0)\u001b[0m\n\u001b[0;32m   1017\u001b[0m \u001b[1;33m\u001b[0m\u001b[0m\n\u001b[0;32m   1018\u001b[0m             \u001b[1;31m# Convert each value according to its column and store\u001b[0m\u001b[1;33m\u001b[0m\u001b[1;33m\u001b[0m\u001b[0m\n\u001b[1;32m-> 1019\u001b[1;33m             \u001b[0mitems\u001b[0m \u001b[1;33m=\u001b[0m \u001b[1;33m[\u001b[0m\u001b[0mconv\u001b[0m\u001b[1;33m(\u001b[0m\u001b[0mval\u001b[0m\u001b[1;33m)\u001b[0m \u001b[1;32mfor\u001b[0m \u001b[1;33m(\u001b[0m\u001b[0mconv\u001b[0m\u001b[1;33m,\u001b[0m \u001b[0mval\u001b[0m\u001b[1;33m)\u001b[0m \u001b[1;32min\u001b[0m \u001b[0mzip\u001b[0m\u001b[1;33m(\u001b[0m\u001b[0mconverters\u001b[0m\u001b[1;33m,\u001b[0m \u001b[0mvals\u001b[0m\u001b[1;33m)\u001b[0m\u001b[1;33m]\u001b[0m\u001b[1;33m\u001b[0m\u001b[0m\n\u001b[0m\u001b[0;32m   1020\u001b[0m \u001b[1;33m\u001b[0m\u001b[0m\n\u001b[0;32m   1021\u001b[0m             \u001b[1;31m# Then pack it according to the dtype's nesting\u001b[0m\u001b[1;33m\u001b[0m\u001b[1;33m\u001b[0m\u001b[0m\n",
      "\u001b[1;32m~\\AppData\\Local\\Continuum\\anaconda3\\lib\\site-packages\\numpy\\lib\\npyio.py\u001b[0m in \u001b[0;36mfloatconv\u001b[1;34m(x)\u001b[0m\n\u001b[0;32m    736\u001b[0m         \u001b[1;32mif\u001b[0m \u001b[1;34m'0x'\u001b[0m \u001b[1;32min\u001b[0m \u001b[0mx\u001b[0m\u001b[1;33m:\u001b[0m\u001b[1;33m\u001b[0m\u001b[0m\n\u001b[0;32m    737\u001b[0m             \u001b[1;32mreturn\u001b[0m \u001b[0mfloat\u001b[0m\u001b[1;33m.\u001b[0m\u001b[0mfromhex\u001b[0m\u001b[1;33m(\u001b[0m\u001b[0mx\u001b[0m\u001b[1;33m)\u001b[0m\u001b[1;33m\u001b[0m\u001b[0m\n\u001b[1;32m--> 738\u001b[1;33m         \u001b[1;32mreturn\u001b[0m \u001b[0mfloat\u001b[0m\u001b[1;33m(\u001b[0m\u001b[0mx\u001b[0m\u001b[1;33m)\u001b[0m\u001b[1;33m\u001b[0m\u001b[0m\n\u001b[0m\u001b[0;32m    739\u001b[0m \u001b[1;33m\u001b[0m\u001b[0m\n\u001b[0;32m    740\u001b[0m     \u001b[0mtyp\u001b[0m \u001b[1;33m=\u001b[0m \u001b[0mdtype\u001b[0m\u001b[1;33m.\u001b[0m\u001b[0mtype\u001b[0m\u001b[1;33m\u001b[0m\u001b[0m\n",
      "\u001b[1;31mValueError\u001b[0m: could not convert string to float: '20180101 22:01:30.499'"
     ]
    }
   ],
   "source": [
    "test_arr_1 = np.loadtxt(open(\"C:\\\\Users\\\\pebaqu\\\\Downloads\\\\USDJPY-2018-01_UTF8.csv\", \"rb\"), skiprows=1, delimiter=\",\")"
   ]
  },
  {
   "cell_type": "code",
   "execution_count": 50,
   "metadata": {},
   "outputs": [
    {
     "name": "stdout",
     "output_type": "stream",
     "text": [
      "(3185507,)\n",
      "[('2018-01-01T22:01:30.499', 112.57 ) ('2018-01-01T22:01:32.143', 112.6  )\n",
      " ('2018-01-01T22:01:50.876', 112.614) ...\n",
      " ('2018-01-31T23:59:58.998', 109.193) ('2018-01-31T23:59:59.052', 109.195)\n",
      " ('2018-01-31T23:59:59.945', 109.195)]\n"
     ]
    }
   ],
   "source": [
    "print(test_arr_1.shape)\n",
    "print(test_arr_1)"
   ]
  },
  {
   "cell_type": "code",
   "execution_count": 12,
   "metadata": {},
   "outputs": [
    {
     "name": "stdout",
     "output_type": "stream",
     "text": [
      "[[('1970-01-01T00:00:00.000', 0.) ('1970-01-01T00:00:00.000', 0.)]\n",
      " [('1970-01-01T00:00:00.000', 0.) ('1970-01-01T00:00:00.000', 0.)]\n",
      " [('1970-01-01T00:00:00.000', 0.) ('1970-01-01T00:00:00.000', 0.)]\n",
      " ...\n",
      " [('1970-01-01T00:00:00.000', 0.) ('1970-01-01T00:00:00.000', 0.)]\n",
      " [('1970-01-01T00:00:00.000', 0.) ('1970-01-01T00:00:00.000', 0.)]\n",
      " [('1970-01-01T00:00:00.000', 0.) ('1970-01-01T00:00:00.000', 0.)]]\n",
      "[('TTime', '<M8[ms]'), ('Bid', '<f8')]\n",
      "(3185507, 2)\n"
     ]
    },
    {
     "ename": "ValueError",
     "evalue": "Could not convert object to NumPy datetime",
     "output_type": "error",
     "traceback": [
      "\u001b[1;31m---------------------------------------------------------------------------\u001b[0m",
      "\u001b[1;31mValueError\u001b[0m                                Traceback (most recent call last)",
      "\u001b[1;32m<ipython-input-12-a1c212c25fdf>\u001b[0m in \u001b[0;36m<module>\u001b[1;34m()\u001b[0m\n\u001b[0;32m      8\u001b[0m \u001b[0mprint\u001b[0m\u001b[1;33m(\u001b[0m\u001b[0mselect_tick_data\u001b[0m\u001b[1;33m.\u001b[0m\u001b[0mshape\u001b[0m\u001b[1;33m)\u001b[0m\u001b[1;33m\u001b[0m\u001b[0m\n\u001b[0;32m      9\u001b[0m \u001b[1;33m\u001b[0m\u001b[0m\n\u001b[1;32m---> 10\u001b[1;33m \u001b[0mselect_tick_data\u001b[0m\u001b[1;33m[\u001b[0m\u001b[1;33m[\u001b[0m\u001b[1;34m'TTime'\u001b[0m\u001b[1;33m,\u001b[0m\u001b[1;34m'Bid'\u001b[0m\u001b[1;33m]\u001b[0m\u001b[1;33m]\u001b[0m\u001b[1;33m=\u001b[0m\u001b[0mtick_data\u001b[0m\u001b[1;33m[\u001b[0m\u001b[1;33m[\u001b[0m\u001b[1;34m'TTime'\u001b[0m\u001b[1;33m,\u001b[0m\u001b[1;34m'Bid'\u001b[0m\u001b[1;33m]\u001b[0m\u001b[1;33m]\u001b[0m\u001b[1;33m.\u001b[0m\u001b[0mvalues\u001b[0m\u001b[1;33m\u001b[0m\u001b[0m\n\u001b[0m\u001b[0;32m     11\u001b[0m \u001b[1;31m#tick_data_arr = select_tick_data.values[['TTime','Bid']]\u001b[0m\u001b[1;33m\u001b[0m\u001b[1;33m\u001b[0m\u001b[0m\n\u001b[0;32m     12\u001b[0m \u001b[1;31m#test_arr = select_tick_data.values\u001b[0m\u001b[1;33m\u001b[0m\u001b[1;33m\u001b[0m\u001b[0m\n",
      "\u001b[1;31mValueError\u001b[0m: Could not convert object to NumPy datetime"
     ]
    }
   ],
   "source": [
    "input_file = open('C:\\\\Users\\\\pebaqu\\\\Downloads\\\\USDJPY-2018-01.csv',\"r+\")\n",
    "fileObject = csv.reader(input_file)\n",
    "arr_size = len(list(fileObject))-1\n",
    "\n",
    "select_tick_data=np.empty([arr_size,2], dtype=([('TTime','datetime64[ms]'),('Bid','f8')]))\n",
    "print(select_tick_data)\n",
    "print(select_tick_data.dtype)\n",
    "print(select_tick_data.shape)\n",
    "\n",
    "select_tick_data[['TTime','Bid']]=tick_data[['TTime','Bid']].values\n",
    "#tick_data_arr = select_tick_data.values[['TTime','Bid']]\n",
    "#test_arr = select_tick_data.values\n"
   ]
  },
  {
   "cell_type": "code",
   "execution_count": 6,
   "metadata": {},
   "outputs": [
    {
     "name": "stdout",
     "output_type": "stream",
     "text": [
      "[[Timestamp('2018-01-01 22:01:30.499000') 112.57]\n",
      " [Timestamp('2018-01-01 22:01:32.143000') 112.6]\n",
      " [Timestamp('2018-01-01 22:01:50.876000') 112.61399999999999]\n",
      " ...\n",
      " [Timestamp('2018-01-31 23:59:58.998000') 109.193]\n",
      " [Timestamp('2018-01-31 23:59:59.052000') 109.195]\n",
      " [Timestamp('2018-01-31 23:59:59.945000') 109.195]]\n",
      "object\n",
      "(3185507, 2)\n"
     ]
    }
   ],
   "source": [
    "print(select_tick_data)\n",
    "print(select_tick_data.dtype)\n",
    "print(select_tick_data.shape)"
   ]
  },
  {
   "cell_type": "code",
   "execution_count": null,
   "metadata": {},
   "outputs": [],
   "source": [
    "'''this has the right shape'''\n",
    "print(test_arr)\n",
    "print(test_arr.shape)\n",
    "print(test_arr.dtype)\n",
    "test_arr=np.dtype([('TTime','datetime64[ms]'),('Bid','f8')])\n",
    "print(test_arr.shape)\n",
    "#print(test_arr.dtype)\n",
    "print(test_arr)"
   ]
  },
  {
   "cell_type": "code",
   "execution_count": null,
   "metadata": {},
   "outputs": [],
   "source": [
    "df_profit = pd.DataFrame(columns=['PTime','STime','PPrice','SPrice','Profit'])"
   ]
  },
  {
   "cell_type": "code",
   "execution_count": null,
   "metadata": {},
   "outputs": [],
   "source": [
    "df_profit"
   ]
  },
  {
   "cell_type": "code",
   "execution_count": null,
   "metadata": {},
   "outputs": [],
   "source": [
    "'''This looping logic works'''\n",
    "x=0\n",
    "i=0\n",
    "for x in range(x, len(tick_data)):\n",
    "    df_profit['PTime']=tick_data['TTime']\n",
    "    df_profit['PPrice']=tick_data['Bid']\n",
    "    i=i + 1\n",
    "    print(\"This is the master loop \",str(x))\n",
    "    for i in range(x+1, len(tick_data)+1):\n",
    "        print(\"This is the sub loop \", str(i))\n",
    "        x=x+1\n",
    "        \n",
    "    \n",
    "    \n",
    "    #pd.concat([pd.DataFrame([i], columns=['Bid']) for i in range(i,len(tick_data))], ignore_index=True)\n",
    "        #df_profit.loc[i:,['STime','SPrice']] = tick_data[['TTime','Bid']].values\n",
    "        #df_profit['SPrice']=tick_data['Bid']\n",
    "        #df_profit['Profit']=df_profit['PPrice']-tick_data['Bid']"
   ]
  },
  {
   "cell_type": "code",
   "execution_count": null,
   "metadata": {
    "scrolled": true
   },
   "outputs": [],
   "source": [
    "%%time\n",
    "'''This is a row by row loop and append. Very slow.'''\n",
    "x=0\n",
    "i=0\n",
    "df_profit = pd.DataFrame(columns=['PTime','STime','PPrice','SPrice','Profit'])\n",
    "sample_tick_data = tick_data.head(100)\n",
    "\n",
    "for x in range(x, len(sample_tick_data)):\n",
    "    profitPTime = tick_data.loc[x]['TTime']\n",
    "    profitPPrice=tick_data.loc[x]['Bid']\n",
    "    i=i + 1\n",
    "    #print('THIS IS THE MASTER LOOP', x)\n",
    "    for i in range(x+1, len(sample_tick_data)):\n",
    "        profitSTime = sample_tick_data.loc[i]['TTime']\n",
    "        profitSPrice = sample_tick_data.loc[i]['Bid']\n",
    "        profitProfit = profitPPrice-profitSPrice  \n",
    "        \n",
    "        #print('THIS IS THE SUB LOOP', x)\n",
    "        #print('This is the Purchase Time', profitPTime, '\\nThis is the Sale Time', profitSTime, '\\nThis is the Purchase Price', profitPPrice,'\\nThis is the Sale Price', profitSPrice,'\\nThis is the Profit', profitProfit)\n",
    "        \n",
    "        new_row=[profitPTime, profitSTime, profitPPrice, profitSPrice, profitProfit]\n",
    "        \n",
    "        df_profit.loc[len(df_profit)] = new_row\n",
    "\n",
    "        x=x+1"
   ]
  },
  {
   "cell_type": "code",
   "execution_count": null,
   "metadata": {
    "scrolled": true
   },
   "outputs": [],
   "source": [
    "%%time\n",
    "'''This shows how fast concat is'''\n",
    "\n",
    "x=0\n",
    "i=0\n",
    "df_profit = pd.DataFrame(columns=['PTime','STime','PPrice','SPrice','Profit'])\n",
    "sample_tick_data = tick_data.head(10)\n",
    "df_test = pd.DataFrame(columns=['Pair','TTime','Bid','Ask'])\n",
    "\n",
    "for x in range(x, len(tick_data)):\n",
    "    #print(tick_data[tick_data.index>x]) #shows the slice works\n",
    "    df_test = pd.concat([df_test, tick_data[tick_data.index>x]],ignore_index=True)\n",
    "    "
   ]
  },
  {
   "cell_type": "code",
   "execution_count": null,
   "metadata": {},
   "outputs": [],
   "source": [
    "%%time\n",
    "'''This is the working logic'''\n",
    "x=0\n",
    "i=0\n",
    "df_profit = pd.DataFrame(columns=['PTime','PPrice','STime','SPrice'])\n",
    "sample_tick_data = tick_data.head(100)\n",
    "df_test = pd.DataFrame(columns=['Pair','TTime','Bid','Ask'])\n",
    "\n",
    "for x in range(x, len(sample_tick_data)):\n",
    "    #print(tick_data[tick_data.index>x]) #shows the slice works\n",
    "\n",
    "    df_concat = sample_tick_data[sample_tick_data.index>x]\n",
    "    df_concat = df_concat[['TTime','Bid']]\n",
    "    df_concat = df_concat.rename(columns={\"TTime\": \"STime\" , \"Bid\": \"SPrice\"})\n",
    "    df_concat['PTime'] = sample_tick_data.loc[x]['TTime']\n",
    "    df_concat['PPrice'] = sample_tick_data.loc[x]['Bid']\n",
    "    df_concat = df_concat[['PTime', 'PPrice', 'STime', 'SPrice']]\n",
    "    df_profit = pd.concat([df_profit, df_concat], ignore_index=True)\n",
    "\n",
    "df_profit['Profit']= df_profit['SPrice'] - df_profit['PPrice']"
   ]
  },
  {
   "cell_type": "code",
   "execution_count": null,
   "metadata": {},
   "outputs": [],
   "source": [
    "%%time\n",
    "'''This is testing using arrays. This is the first import.\n",
    "'''\n",
    "input_file = open('C:\\\\Users\\\\pebaqu\\\\Downloads\\\\USDJPY-2018-01.csv',\"r+\")\n",
    "fileObject = csv.reader(input_file)\n",
    "arr_size = len(list(fileObject))\n",
    "\n",
    "str2date = lambda x: np.datetime64(datetime.datetime.strptime(x.decode(\"utf-8\"), '%Y%m%d %H:%M:%S.%f'), unit='ms')\n",
    "\n",
    "test_arr = np.empty([arr_size,2])\n",
    "\n",
    "test_arr = np.genfromtxt('C:\\\\Users\\\\pebaqu\\\\Downloads\\\\USDJPY-2018-01.csv', dtype = [('TTime', 'M8[ms]'), ('Bid', 'f8')], usecols=(1,2), names = [\"TTime\",\"Bid\"],  skip_header=1, delimiter=',', converters = {1: str2date})\n"
   ]
  },
  {
   "cell_type": "code",
   "execution_count": null,
   "metadata": {},
   "outputs": [],
   "source": [
    "test_arr_1 = np.eye[4,2]\n",
    "test_arr_1\n",
    "print(test_arr_1.shape)"
   ]
  },
  {
   "cell_type": "code",
   "execution_count": null,
   "metadata": {},
   "outputs": [],
   "source": [
    "'''Logic to determine the size of the array'''\n",
    "#file = object.'C:\\\\Users\\\\pebaqu\\\\Downloads\\\\USDJPY-2018-01.csv'\n",
    "input_file = open('C:\\\\Users\\\\pebaqu\\\\Downloads\\\\USDJPY-2018-01.csv',\"r+\")\n",
    "fileObject = csv.reader(input_file)\n",
    "arr_size = len(list(fileObject))\n",
    "print(arr_size)\n",
    "test_arr = np.empty([arr_size,2])\n",
    "print(test_arr)"
   ]
  },
  {
   "cell_type": "code",
   "execution_count": null,
   "metadata": {},
   "outputs": [],
   "source": [
    "sample_test_arr=test_arr[0:10]\n",
    "sample_test_arr"
   ]
  },
  {
   "cell_type": "code",
   "execution_count": null,
   "metadata": {},
   "outputs": [],
   "source": [
    "date_arr=np.array('20180101 22:01:30.499')\n",
    "print(date_arr, date_arr.dtype)\n",
    "date_arr_datetime = np.array(datetime.datetime.strptime('20180101 22:01:30.499', '%Y%m%d %H:%M:%S.%f'))\n",
    "print(date_arr_datetime, date_arr_datetime.dtype)\n",
    "date_arr_astype = np.datetime64(datetime.datetime.strptime('20180101 22:01:30.499', '%Y%m%d %H:%M:%S.%f'))\n",
    "print(date_arr_astype, date_arr_astype.dtype)"
   ]
  },
  {
   "cell_type": "code",
   "execution_count": null,
   "metadata": {},
   "outputs": [],
   "source": [
    "sample_test_arr=test_arr[0:10]\n",
    "print(sample_test_arr.shape)\n",
    "print(test_arr.shape)\n",
    "sample_test_arr"
   ]
  },
  {
   "cell_type": "code",
   "execution_count": null,
   "metadata": {},
   "outputs": [],
   "source": [
    "test_1 = np.where(sample_test_arr['TTime']>np.datetime64('2018-01-01T22:03:47.489'))\n",
    "print(test_1)\n",
    "print(np.count_nonzero(test_1))\n",
    "test_2 = np.take(sample_test_arr, [[0,test_1[0][1]],[0,1]])\n",
    "print(test_2)\n",
    "#test_3 = list(map(lambda x: x.split(','), test_2[:,0]))\n",
    "#print(test_3)\n",
    "test_subset3 = np.take(sample_test_arr, np.where(sample_test_arr['TTime']>np.datetime64('2018-01-01T22:03:47.489')))\n",
    "print(test_subset_3)\n",
    "a = np.hstack((test_subset_3[:,1], map(lambda x: x.split(','), test_subset_3[:,0])))\n",
    "print('This is a',a)"
   ]
  },
  {
   "cell_type": "code",
   "execution_count": null,
   "metadata": {},
   "outputs": [],
   "source": [
    "print(test_subset_3[:,0])\n",
    "print(test_subset_3[:,1])\n",
    "print(test_subset_3[:,0].shape)\n",
    "print(test_subset_3[:,1].shape)"
   ]
  },
  {
   "cell_type": "code",
   "execution_count": null,
   "metadata": {},
   "outputs": [],
   "source": [
    "print(sample_test_arr.shape)\n",
    "print(sample_test_arr)\n",
    "test_subset_4 = test_subset_3[:,0]\n",
    "print(test_subset_4.shape)\n",
    "print(test_subset_4)\n",
    "test_subset_5=np.append(sample_test_arr,test_subset_4)\n",
    "print(test_subset_5)\n",
    "print(test_subset_5.shape)"
   ]
  },
  {
   "cell_type": "code",
   "execution_count": null,
   "metadata": {},
   "outputs": [],
   "source": [
    "'''Array subsetting logic'''\n",
    "test_subset = np.where(sample_test_arr['TTime']>np.datetime64('2018-01-01T22:03:47.489'))\n",
    "print(test_subset)\n",
    "test_subset2 = np.take(sample_test_arr, np.where(sample_test_arr['TTime']>np.datetime64('2018-01-01T22:03:47.489')))\n",
    "print(test_subset2.shape)\n",
    "print(test_subset2)\n",
    "indicies = [np.where(sample_test_arr['TTime']>np.datetime64('2018-01-01T22:03:47.489')),[0,2]]\n",
    "print(indicies)\n",
    "#a=np.hstack(test_subset_2)\n",
    "print(np.datetime64('2018-01-01T22:03:47.489'))\n",
    "\n",
    "\n",
    "\n"
   ]
  },
  {
   "cell_type": "code",
   "execution_count": null,
   "metadata": {},
   "outputs": [],
   "source": [
    "dt=np.dtype('M8[ms],f8')\n",
    "final_array= np.empty((0,2),dtype=dt)\n",
    "concat_array= np.empty((0,2),dtype=dt)\n",
    "print(final_array.dtype)\n",
    "print(final_array.shape)"
   ]
  },
  {
   "cell_type": "code",
   "execution_count": null,
   "metadata": {},
   "outputs": [],
   "source": [
    "%%time\n",
    "'''Array appending logic'''\n",
    "final_array= np.empty_like(sample_test_arr)\n",
    "\n",
    "for x in np.nditer(sample_test_arr):\n",
    "    concat_array=np.take(sample_test_arr, np.where(sample_test_arr['TTime']>np.datetime64(x['TTime'])))\n",
    "    final_array = np.append(final_array,[concat_array], axis=0)\n",
    "    #print(final_array.shape)\n",
    "    print(concat_array.shape)\n",
    "    #print(x['TTime'])\n",
    "    #print(concat_array)"
   ]
  },
  {
   "cell_type": "code",
   "execution_count": null,
   "metadata": {},
   "outputs": [],
   "source": [
    "sample_test_arr.dtype.names = 'Time','Bid'\n",
    "sample_test_arr['Time'].astype(np.datetime64) \n",
    "sample_test_arr"
   ]
  },
  {
   "cell_type": "code",
   "execution_count": null,
   "metadata": {},
   "outputs": [],
   "source": [
    "df_profit"
   ]
  },
  {
   "cell_type": "code",
   "execution_count": null,
   "metadata": {},
   "outputs": [],
   "source": [
    "writer = pd.ExcelWriter('C:\\\\Users\\\\pebaqu\\\\Desktop\\\\Profit.xlsx')\n",
    "df_profit.to_excel(writer,'Sheet1',index=False)\n",
    "writer.save()"
   ]
  },
  {
   "cell_type": "code",
   "execution_count": null,
   "metadata": {},
   "outputs": [],
   "source": [
    "df_profit.dtypes\n",
    "\n",
    "df_profit['New_PTime']=df_profit['PTime'].apply(lambda x: datetime.datetime.strptime(x, \"%Y%m%d %H:%M:%S.%f\"))\n",
    "df_profit['New_STime']=df_profit['STime'].apply(lambda x: datetime.datetime.strptime(x, \"%Y%m%d %H:%M:%S.%f\"))\n",
    "df_profit.dtypes\n",
    "\n",
    "\n",
    "df_profit=df_profit[df_profit.Profit>0]\n"
   ]
  },
  {
   "cell_type": "code",
   "execution_count": null,
   "metadata": {},
   "outputs": [],
   "source": [
    "fig = plt.figure()\n",
    "ax = plt.axes(projection='3d')\n",
    "\n",
    "ax.scatter3D(dates.date2num(df_profit['New_PTime']), dates.date2num(df_profit['New_STime']), df_profit['Profit'], c=df_profit['Profit'], cmap='Greens')"
   ]
  },
  {
   "cell_type": "code",
   "execution_count": null,
   "metadata": {
    "scrolled": true
   },
   "outputs": [],
   "source": [
    "fig = plt.figure()\n",
    "ax = plt.axes(projection='3d')\n",
    "\n",
    "ax.plot_trisurf(dates.date2num(df_profit['New_PTime']), dates.date2num(df_profit['New_STime']), df_profit['Profit'], cmap=plt.cm.viridis)"
   ]
  },
  {
   "cell_type": "code",
   "execution_count": null,
   "metadata": {},
   "outputs": [],
   "source": []
  }
 ],
 "metadata": {
  "kernelspec": {
   "display_name": "Python 3",
   "language": "python",
   "name": "python3"
  },
  "language_info": {
   "codemirror_mode": {
    "name": "ipython",
    "version": 3
   },
   "file_extension": ".py",
   "mimetype": "text/x-python",
   "name": "python",
   "nbconvert_exporter": "python",
   "pygments_lexer": "ipython3",
   "version": "3.6.5"
  }
 },
 "nbformat": 4,
 "nbformat_minor": 2
}
